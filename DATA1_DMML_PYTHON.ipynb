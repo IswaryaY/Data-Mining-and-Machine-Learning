{
 "cells": [
  {
   "cell_type": "markdown",
   "metadata": {},
   "source": [
    "# IMPORT LIBRARIES"
   ]
  },
  {
   "cell_type": "code",
   "execution_count": 2,
   "metadata": {},
   "outputs": [],
   "source": [
    "import numpy as np # linear algebra\n",
    "import pandas as pd # data processing, CSV file I/O (e.g. pd.read_csv)\n",
    "import seaborn as sns\n",
    "import matplotlib.pyplot as plt\n",
    "from sklearn.model_selection import train_test_split, StratifiedKFold, GridSearchCV\n",
    "from sklearn.linear_model import LogisticRegression\n",
    "from sklearn.svm import SVC\n",
    "import missingno as msno\n",
    "from sklearn.preprocessing import LabelEncoder\n",
    "from sklearn.ensemble import RandomForestClassifier, VotingClassifier\n",
    "from sklearn.neighbors import KNeighborsClassifier\n",
    "from scipy.stats import norm, skew, boxcox\n",
    "from sklearn.preprocessing import RobustScaler, StandardScaler\n",
    "from sklearn.tree import DecisionTreeClassifier\n",
    "from sklearn.metrics import accuracy_score, mean_squared_error, confusion_matrix, plot_confusion_matrix, auc\n",
    "from xgboost import XGBClassifier\n",
    "from sklearn.preprocessing import RobustScaler, StandardScaler\n",
    "from sklearn.metrics import roc_curve\n",
    "%matplotlib inline\n",
    "from sklearn import svm, datasets\n",
    "from sklearn.model_selection import train_test_split\n",
    "from sklearn.preprocessing import label_binarize\n",
    "from sklearn.metrics import roc_curve, auc\n",
    "from sklearn.multiclass import OneVsRestClassifier\n",
    "import scikitplot\n",
    "from sklearn.metrics import classification_report\n",
    "from sklearn.metrics import roc_curve"
   ]
  },
  {
   "cell_type": "markdown",
   "metadata": {},
   "source": [
    "# A.DATA SELECTION"
   ]
  },
  {
   "cell_type": "markdown",
   "metadata": {},
   "source": [
    "# LOADING DATA"
   ]
  },
  {
   "cell_type": "code",
   "execution_count": 3,
   "metadata": {},
   "outputs": [],
   "source": [
    "train_data = pd.read_csv(\"D:\\MSc DATAANALYTICS\\FIRST SEMESTER\\PROJECTS\\DATAMINING AND MACHINE LEARNING\\Chess_data\\games.csv\")"
   ]
  },
  {
   "cell_type": "markdown",
   "metadata": {},
   "source": [
    "# B.DATA PRE-PROCESSING"
   ]
  },
  {
   "cell_type": "markdown",
   "metadata": {},
   "source": [
    "# UNDERSTAND THE DATA"
   ]
  },
  {
   "cell_type": "code",
   "execution_count": 4,
   "metadata": {},
   "outputs": [
    {
     "name": "stdout",
     "output_type": "stream",
     "text": [
      "Index(['id', 'rated', 'created_at', 'last_move_at', 'turns', 'victory_status',\n",
      "       'winner', 'increment_code', 'white_id', 'white_rating', 'black_id',\n",
      "       'black_rating', 'moves', 'opening_eco', 'opening_name', 'opening_ply'],\n",
      "      dtype='object')\n"
     ]
    }
   ],
   "source": [
    "#DISPLAYING THE COLUMNS IN TRAIN_DATA\n",
    "print(train_data.columns)"
   ]
  },
  {
   "cell_type": "code",
   "execution_count": 5,
   "metadata": {},
   "outputs": [
    {
     "data": {
      "text/html": [
       "<div>\n",
       "<style scoped>\n",
       "    .dataframe tbody tr th:only-of-type {\n",
       "        vertical-align: middle;\n",
       "    }\n",
       "\n",
       "    .dataframe tbody tr th {\n",
       "        vertical-align: top;\n",
       "    }\n",
       "\n",
       "    .dataframe thead th {\n",
       "        text-align: right;\n",
       "    }\n",
       "</style>\n",
       "<table border=\"1\" class=\"dataframe\">\n",
       "  <thead>\n",
       "    <tr style=\"text-align: right;\">\n",
       "      <th></th>\n",
       "      <th>id</th>\n",
       "      <th>rated</th>\n",
       "      <th>created_at</th>\n",
       "      <th>last_move_at</th>\n",
       "      <th>turns</th>\n",
       "      <th>victory_status</th>\n",
       "      <th>winner</th>\n",
       "      <th>increment_code</th>\n",
       "      <th>white_id</th>\n",
       "      <th>white_rating</th>\n",
       "      <th>black_id</th>\n",
       "      <th>black_rating</th>\n",
       "      <th>moves</th>\n",
       "      <th>opening_eco</th>\n",
       "      <th>opening_name</th>\n",
       "      <th>opening_ply</th>\n",
       "    </tr>\n",
       "  </thead>\n",
       "  <tbody>\n",
       "    <tr>\n",
       "      <th>0</th>\n",
       "      <td>TZJHLljE</td>\n",
       "      <td>False</td>\n",
       "      <td>1.504210e+12</td>\n",
       "      <td>1.504210e+12</td>\n",
       "      <td>13</td>\n",
       "      <td>outoftime</td>\n",
       "      <td>white</td>\n",
       "      <td>15+2</td>\n",
       "      <td>bourgris</td>\n",
       "      <td>1500</td>\n",
       "      <td>a-00</td>\n",
       "      <td>1191</td>\n",
       "      <td>d4 d5 c4 c6 cxd5 e6 dxe6 fxe6 Nf3 Bb4+ Nc3 Ba5...</td>\n",
       "      <td>D10</td>\n",
       "      <td>Slav Defense: Exchange Variation</td>\n",
       "      <td>5</td>\n",
       "    </tr>\n",
       "    <tr>\n",
       "      <th>1</th>\n",
       "      <td>l1NXvwaE</td>\n",
       "      <td>True</td>\n",
       "      <td>1.504130e+12</td>\n",
       "      <td>1.504130e+12</td>\n",
       "      <td>16</td>\n",
       "      <td>resign</td>\n",
       "      <td>black</td>\n",
       "      <td>5+10</td>\n",
       "      <td>a-00</td>\n",
       "      <td>1322</td>\n",
       "      <td>skinnerua</td>\n",
       "      <td>1261</td>\n",
       "      <td>d4 Nc6 e4 e5 f4 f6 dxe5 fxe5 fxe5 Nxe5 Qd4 Nc6...</td>\n",
       "      <td>B00</td>\n",
       "      <td>Nimzowitsch Defense: Kennedy Variation</td>\n",
       "      <td>4</td>\n",
       "    </tr>\n",
       "    <tr>\n",
       "      <th>2</th>\n",
       "      <td>mIICvQHh</td>\n",
       "      <td>True</td>\n",
       "      <td>1.504130e+12</td>\n",
       "      <td>1.504130e+12</td>\n",
       "      <td>61</td>\n",
       "      <td>mate</td>\n",
       "      <td>white</td>\n",
       "      <td>5+10</td>\n",
       "      <td>ischia</td>\n",
       "      <td>1496</td>\n",
       "      <td>a-00</td>\n",
       "      <td>1500</td>\n",
       "      <td>e4 e5 d3 d6 Be3 c6 Be2 b5 Nd2 a5 a4 c5 axb5 Nc...</td>\n",
       "      <td>C20</td>\n",
       "      <td>King's Pawn Game: Leonardis Variation</td>\n",
       "      <td>3</td>\n",
       "    </tr>\n",
       "    <tr>\n",
       "      <th>3</th>\n",
       "      <td>kWKvrqYL</td>\n",
       "      <td>True</td>\n",
       "      <td>1.504110e+12</td>\n",
       "      <td>1.504110e+12</td>\n",
       "      <td>61</td>\n",
       "      <td>mate</td>\n",
       "      <td>white</td>\n",
       "      <td>20+0</td>\n",
       "      <td>daniamurashov</td>\n",
       "      <td>1439</td>\n",
       "      <td>adivanov2009</td>\n",
       "      <td>1454</td>\n",
       "      <td>d4 d5 Nf3 Bf5 Nc3 Nf6 Bf4 Ng4 e3 Nc6 Be2 Qd7 O...</td>\n",
       "      <td>D02</td>\n",
       "      <td>Queen's Pawn Game: Zukertort Variation</td>\n",
       "      <td>3</td>\n",
       "    </tr>\n",
       "    <tr>\n",
       "      <th>4</th>\n",
       "      <td>9tXo1AUZ</td>\n",
       "      <td>True</td>\n",
       "      <td>1.504030e+12</td>\n",
       "      <td>1.504030e+12</td>\n",
       "      <td>95</td>\n",
       "      <td>mate</td>\n",
       "      <td>white</td>\n",
       "      <td>30+3</td>\n",
       "      <td>nik221107</td>\n",
       "      <td>1523</td>\n",
       "      <td>adivanov2009</td>\n",
       "      <td>1469</td>\n",
       "      <td>e4 e5 Nf3 d6 d4 Nc6 d5 Nb4 a3 Na6 Nc3 Be7 b4 N...</td>\n",
       "      <td>C41</td>\n",
       "      <td>Philidor Defense</td>\n",
       "      <td>5</td>\n",
       "    </tr>\n",
       "  </tbody>\n",
       "</table>\n",
       "</div>"
      ],
      "text/plain": [
       "         id  rated    created_at  last_move_at  turns victory_status winner  \\\n",
       "0  TZJHLljE  False  1.504210e+12  1.504210e+12     13      outoftime  white   \n",
       "1  l1NXvwaE   True  1.504130e+12  1.504130e+12     16         resign  black   \n",
       "2  mIICvQHh   True  1.504130e+12  1.504130e+12     61           mate  white   \n",
       "3  kWKvrqYL   True  1.504110e+12  1.504110e+12     61           mate  white   \n",
       "4  9tXo1AUZ   True  1.504030e+12  1.504030e+12     95           mate  white   \n",
       "\n",
       "  increment_code       white_id  white_rating      black_id  black_rating  \\\n",
       "0           15+2       bourgris          1500          a-00          1191   \n",
       "1           5+10           a-00          1322     skinnerua          1261   \n",
       "2           5+10         ischia          1496          a-00          1500   \n",
       "3           20+0  daniamurashov          1439  adivanov2009          1454   \n",
       "4           30+3      nik221107          1523  adivanov2009          1469   \n",
       "\n",
       "                                               moves opening_eco  \\\n",
       "0  d4 d5 c4 c6 cxd5 e6 dxe6 fxe6 Nf3 Bb4+ Nc3 Ba5...         D10   \n",
       "1  d4 Nc6 e4 e5 f4 f6 dxe5 fxe5 fxe5 Nxe5 Qd4 Nc6...         B00   \n",
       "2  e4 e5 d3 d6 Be3 c6 Be2 b5 Nd2 a5 a4 c5 axb5 Nc...         C20   \n",
       "3  d4 d5 Nf3 Bf5 Nc3 Nf6 Bf4 Ng4 e3 Nc6 Be2 Qd7 O...         D02   \n",
       "4  e4 e5 Nf3 d6 d4 Nc6 d5 Nb4 a3 Na6 Nc3 Be7 b4 N...         C41   \n",
       "\n",
       "                             opening_name  opening_ply  \n",
       "0        Slav Defense: Exchange Variation            5  \n",
       "1  Nimzowitsch Defense: Kennedy Variation            4  \n",
       "2   King's Pawn Game: Leonardis Variation            3  \n",
       "3  Queen's Pawn Game: Zukertort Variation            3  \n",
       "4                        Philidor Defense            5  "
      ]
     },
     "execution_count": 5,
     "metadata": {},
     "output_type": "execute_result"
    }
   ],
   "source": [
    "#DISPLAYING THE FEW ROWS OF DATA\n",
    "train_data.head()"
   ]
  },
  {
   "cell_type": "code",
   "execution_count": 6,
   "metadata": {},
   "outputs": [
    {
     "data": {
      "text/html": [
       "<div>\n",
       "<style scoped>\n",
       "    .dataframe tbody tr th:only-of-type {\n",
       "        vertical-align: middle;\n",
       "    }\n",
       "\n",
       "    .dataframe tbody tr th {\n",
       "        vertical-align: top;\n",
       "    }\n",
       "\n",
       "    .dataframe thead th {\n",
       "        text-align: right;\n",
       "    }\n",
       "</style>\n",
       "<table border=\"1\" class=\"dataframe\">\n",
       "  <thead>\n",
       "    <tr style=\"text-align: right;\">\n",
       "      <th></th>\n",
       "      <th>created_at</th>\n",
       "      <th>last_move_at</th>\n",
       "      <th>turns</th>\n",
       "      <th>white_rating</th>\n",
       "      <th>black_rating</th>\n",
       "      <th>opening_ply</th>\n",
       "    </tr>\n",
       "  </thead>\n",
       "  <tbody>\n",
       "    <tr>\n",
       "      <th>count</th>\n",
       "      <td>2.005800e+04</td>\n",
       "      <td>2.005800e+04</td>\n",
       "      <td>20058.000000</td>\n",
       "      <td>20058.000000</td>\n",
       "      <td>20058.000000</td>\n",
       "      <td>20058.000000</td>\n",
       "    </tr>\n",
       "    <tr>\n",
       "      <th>mean</th>\n",
       "      <td>1.483617e+12</td>\n",
       "      <td>1.483618e+12</td>\n",
       "      <td>60.465999</td>\n",
       "      <td>1596.631868</td>\n",
       "      <td>1588.831987</td>\n",
       "      <td>4.816981</td>\n",
       "    </tr>\n",
       "    <tr>\n",
       "      <th>std</th>\n",
       "      <td>2.850151e+10</td>\n",
       "      <td>2.850140e+10</td>\n",
       "      <td>33.570585</td>\n",
       "      <td>291.253376</td>\n",
       "      <td>291.036126</td>\n",
       "      <td>2.797152</td>\n",
       "    </tr>\n",
       "    <tr>\n",
       "      <th>min</th>\n",
       "      <td>1.376772e+12</td>\n",
       "      <td>1.376772e+12</td>\n",
       "      <td>1.000000</td>\n",
       "      <td>784.000000</td>\n",
       "      <td>789.000000</td>\n",
       "      <td>1.000000</td>\n",
       "    </tr>\n",
       "    <tr>\n",
       "      <th>25%</th>\n",
       "      <td>1.477548e+12</td>\n",
       "      <td>1.477548e+12</td>\n",
       "      <td>37.000000</td>\n",
       "      <td>1398.000000</td>\n",
       "      <td>1391.000000</td>\n",
       "      <td>3.000000</td>\n",
       "    </tr>\n",
       "    <tr>\n",
       "      <th>50%</th>\n",
       "      <td>1.496010e+12</td>\n",
       "      <td>1.496010e+12</td>\n",
       "      <td>55.000000</td>\n",
       "      <td>1567.000000</td>\n",
       "      <td>1562.000000</td>\n",
       "      <td>4.000000</td>\n",
       "    </tr>\n",
       "    <tr>\n",
       "      <th>75%</th>\n",
       "      <td>1.503170e+12</td>\n",
       "      <td>1.503170e+12</td>\n",
       "      <td>79.000000</td>\n",
       "      <td>1793.000000</td>\n",
       "      <td>1784.000000</td>\n",
       "      <td>6.000000</td>\n",
       "    </tr>\n",
       "    <tr>\n",
       "      <th>max</th>\n",
       "      <td>1.504493e+12</td>\n",
       "      <td>1.504494e+12</td>\n",
       "      <td>349.000000</td>\n",
       "      <td>2700.000000</td>\n",
       "      <td>2723.000000</td>\n",
       "      <td>28.000000</td>\n",
       "    </tr>\n",
       "  </tbody>\n",
       "</table>\n",
       "</div>"
      ],
      "text/plain": [
       "         created_at  last_move_at         turns  white_rating  black_rating  \\\n",
       "count  2.005800e+04  2.005800e+04  20058.000000  20058.000000  20058.000000   \n",
       "mean   1.483617e+12  1.483618e+12     60.465999   1596.631868   1588.831987   \n",
       "std    2.850151e+10  2.850140e+10     33.570585    291.253376    291.036126   \n",
       "min    1.376772e+12  1.376772e+12      1.000000    784.000000    789.000000   \n",
       "25%    1.477548e+12  1.477548e+12     37.000000   1398.000000   1391.000000   \n",
       "50%    1.496010e+12  1.496010e+12     55.000000   1567.000000   1562.000000   \n",
       "75%    1.503170e+12  1.503170e+12     79.000000   1793.000000   1784.000000   \n",
       "max    1.504493e+12  1.504494e+12    349.000000   2700.000000   2723.000000   \n",
       "\n",
       "        opening_ply  \n",
       "count  20058.000000  \n",
       "mean       4.816981  \n",
       "std        2.797152  \n",
       "min        1.000000  \n",
       "25%        3.000000  \n",
       "50%        4.000000  \n",
       "75%        6.000000  \n",
       "max       28.000000  "
      ]
     },
     "execution_count": 6,
     "metadata": {},
     "output_type": "execute_result"
    }
   ],
   "source": [
    "#STATISTIC VALUES OF NUMERICAL COLUMNS ARE CHECKING USING DESCRIBE FUNCTION\n",
    "train_data.describe()"
   ]
  },
  {
   "cell_type": "code",
   "execution_count": 7,
   "metadata": {},
   "outputs": [
    {
     "name": "stdout",
     "output_type": "stream",
     "text": [
      "<class 'pandas.core.frame.DataFrame'>\n",
      "RangeIndex: 20058 entries, 0 to 20057\n",
      "Data columns (total 16 columns):\n",
      " #   Column          Non-Null Count  Dtype  \n",
      "---  ------          --------------  -----  \n",
      " 0   id              20058 non-null  object \n",
      " 1   rated           20058 non-null  bool   \n",
      " 2   created_at      20058 non-null  float64\n",
      " 3   last_move_at    20058 non-null  float64\n",
      " 4   turns           20058 non-null  int64  \n",
      " 5   victory_status  20058 non-null  object \n",
      " 6   winner          20058 non-null  object \n",
      " 7   increment_code  20058 non-null  object \n",
      " 8   white_id        20058 non-null  object \n",
      " 9   white_rating    20058 non-null  int64  \n",
      " 10  black_id        20058 non-null  object \n",
      " 11  black_rating    20058 non-null  int64  \n",
      " 12  moves           20058 non-null  object \n",
      " 13  opening_eco     20058 non-null  object \n",
      " 14  opening_name    20058 non-null  object \n",
      " 15  opening_ply     20058 non-null  int64  \n",
      "dtypes: bool(1), float64(2), int64(4), object(9)\n",
      "memory usage: 2.3+ MB\n"
     ]
    }
   ],
   "source": [
    "#DATATYPES AND COUNTS ARE CHECKED BY USING INFO FUNCTION\n",
    "train_data.info()"
   ]
  },
  {
   "cell_type": "markdown",
   "metadata": {},
   "source": [
    "# CHECKING VALUE COUNTS"
   ]
  },
  {
   "cell_type": "code",
   "execution_count": 8,
   "metadata": {},
   "outputs": [
    {
     "name": "stdout",
     "output_type": "stream",
     "text": [
      "True     16155\n",
      "False     3903\n",
      "Name: rated, dtype: int64 \n",
      "\n",
      "null value number -- > 0 \n",
      "\n"
     ]
    }
   ],
   "source": [
    "#rated\n",
    "print(\"{} \\n\".format(train_data[\"rated\"].value_counts()))\n",
    "print(\"null value number -- > {} \\n\".format(train_data[\"rated\"].isnull().sum()))\n",
    "\n"
   ]
  },
  {
   "cell_type": "code",
   "execution_count": 9,
   "metadata": {},
   "outputs": [
    {
     "name": "stdout",
     "output_type": "stream",
     "text": [
      "1.504210e+12    45\n",
      "1.504140e+12    39\n",
      "1.504200e+12    38\n",
      "1.503860e+12    37\n",
      "1.504050e+12    32\n",
      "                ..\n",
      "1.489877e+12     1\n",
      "1.400759e+12     1\n",
      "1.484164e+12     1\n",
      "1.503804e+12     1\n",
      "1.503239e+12     1\n",
      "Name: created_at, Length: 13151, dtype: int64 \n",
      "\n",
      "null value number -- > 0 \n",
      "\n"
     ]
    }
   ],
   "source": [
    "#created_at\n",
    "print(\"{} \\n\".format(train_data[\"created_at\"].value_counts()))\n",
    "print(\"null value number -- > {} \\n\".format(train_data[\"created_at\"].isnull().sum()))"
   ]
  },
  {
   "cell_type": "code",
   "execution_count": 10,
   "metadata": {},
   "outputs": [
    {
     "name": "stdout",
     "output_type": "stream",
     "text": [
      "1.504210e+12    46\n",
      "1.504140e+12    39\n",
      "1.504200e+12    35\n",
      "1.503860e+12    34\n",
      "1.504040e+12    33\n",
      "                ..\n",
      "1.418230e+12     1\n",
      "1.504124e+12     1\n",
      "1.501878e+12     1\n",
      "1.504118e+12     1\n",
      "1.503239e+12     1\n",
      "Name: last_move_at, Length: 13186, dtype: int64 \n",
      "\n",
      "null value number -- > 0 \n",
      "\n"
     ]
    }
   ],
   "source": [
    "#last_move_at\n",
    "print(\"{} \\n\".format(train_data[\"last_move_at\"].value_counts()))\n",
    "print(\"null value number -- > {} \\n\".format(train_data[\"last_move_at\"].isnull().sum()))"
   ]
  },
  {
   "cell_type": "code",
   "execution_count": 11,
   "metadata": {},
   "outputs": [
    {
     "name": "stdout",
     "output_type": "stream",
     "text": [
      "53     303\n",
      "45     302\n",
      "51     299\n",
      "57     297\n",
      "39     297\n",
      "      ... \n",
      "218      1\n",
      "216      1\n",
      "201      1\n",
      "212      1\n",
      "255      1\n",
      "Name: turns, Length: 211, dtype: int64 \n",
      "\n",
      "null value number -- > 0 \n",
      "\n"
     ]
    }
   ],
   "source": [
    "#turns\n",
    "print(\"{} \\n\".format(train_data[\"turns\"].value_counts()))\n",
    "print(\"null value number -- > {} \\n\".format(train_data[\"turns\"].isnull().sum()))"
   ]
  },
  {
   "cell_type": "code",
   "execution_count": 12,
   "metadata": {},
   "outputs": [
    {
     "name": "stdout",
     "output_type": "stream",
     "text": [
      "resign       11147\n",
      "mate          6325\n",
      "outoftime     1680\n",
      "draw           906\n",
      "Name: victory_status, dtype: int64 \n",
      "\n",
      "null value number -- > 0 \n",
      "\n"
     ]
    }
   ],
   "source": [
    "#victory_status\n",
    "print(\"{} \\n\".format(train_data[\"victory_status\"].value_counts()))\n",
    "print(\"null value number -- > {} \\n\".format(train_data[\"victory_status\"].isnull().sum()))"
   ]
  },
  {
   "cell_type": "code",
   "execution_count": 13,
   "metadata": {},
   "outputs": [
    {
     "name": "stdout",
     "output_type": "stream",
     "text": [
      "white    10001\n",
      "black     9107\n",
      "draw       950\n",
      "Name: winner, dtype: int64 \n",
      "\n",
      "null value number -- > 0 \n",
      "\n"
     ]
    }
   ],
   "source": [
    "#winner\n",
    "print(\"{} \\n\".format(train_data[\"winner\"].value_counts()))\n",
    "print(\"null value number -- > {} \\n\".format(train_data[\"winner\"].isnull().sum()))"
   ]
  },
  {
   "cell_type": "code",
   "execution_count": 14,
   "metadata": {},
   "outputs": [
    {
     "name": "stdout",
     "output_type": "stream",
     "text": [
      "10+0      7721\n",
      "15+0      1311\n",
      "15+15      850\n",
      "5+5        738\n",
      "5+8        697\n",
      "          ... \n",
      "11+9         1\n",
      "60+20        1\n",
      "30+150       1\n",
      "30+7         1\n",
      "1+13         1\n",
      "Name: increment_code, Length: 400, dtype: int64 \n",
      "\n",
      "null value number -- > 0 \n",
      "\n"
     ]
    }
   ],
   "source": [
    "#increment_code\n",
    "print(\"{} \\n\".format(train_data[\"increment_code\"].value_counts()))\n",
    "print(\"null value number -- > {} \\n\".format(train_data[\"increment_code\"].isnull().sum()))"
   ]
  },
  {
   "cell_type": "code",
   "execution_count": 15,
   "metadata": {},
   "outputs": [
    {
     "name": "stdout",
     "output_type": "stream",
     "text": [
      "taranga          72\n",
      "chess-brahs      53\n",
      "a_p_t_e_m_u_u    49\n",
      "bleda            48\n",
      "ssf7             48\n",
      "                 ..\n",
      "tareed            1\n",
      "maxgy             1\n",
      "gr_vlasov         1\n",
      "shadd             1\n",
      "fitricter         1\n",
      "Name: white_id, Length: 9438, dtype: int64 \n",
      "\n",
      "null value number -- > 0 \n",
      "\n"
     ]
    }
   ],
   "source": [
    "#white_id\n",
    "print(\"{} \\n\".format(train_data[\"white_id\"].value_counts()))\n",
    "print(\"null value number -- > {} \\n\".format(train_data[\"white_id\"].isnull().sum()))"
   ]
  },
  {
   "cell_type": "code",
   "execution_count": 16,
   "metadata": {},
   "outputs": [
    {
     "name": "stdout",
     "output_type": "stream",
     "text": [
      "1500    812\n",
      "1480     51\n",
      "1400     48\n",
      "1536     46\n",
      "1708     45\n",
      "       ... \n",
      "801       1\n",
      "899       1\n",
      "915       1\n",
      "931       1\n",
      "2485      1\n",
      "Name: white_rating, Length: 1516, dtype: int64 \n",
      "\n",
      "null value number -- > 0 \n",
      "\n"
     ]
    }
   ],
   "source": [
    "#white_rating\n",
    "print(\"{} \\n\".format(train_data[\"white_rating\"].value_counts()))\n",
    "print(\"null value number -- > {} \\n\".format(train_data[\"white_rating\"].isnull().sum()))"
   ]
  },
  {
   "cell_type": "code",
   "execution_count": 17,
   "metadata": {},
   "outputs": [
    {
     "name": "stdout",
     "output_type": "stream",
     "text": [
      "taranga               82\n",
      "vladimir-kramnik-1    60\n",
      "a_p_t_e_m_u_u         47\n",
      "king5891              44\n",
      "docboss               44\n",
      "                      ..\n",
      "leolayon               1\n",
      "o2ga                   1\n",
      "lovag                  1\n",
      "sumitan                1\n",
      "lev_chistov62          1\n",
      "Name: black_id, Length: 9331, dtype: int64 \n",
      "\n",
      "null value number -- > 0 \n",
      "\n"
     ]
    }
   ],
   "source": [
    "#black_id\n",
    "print(\"{} \\n\".format(train_data[\"black_id\"].value_counts()))\n",
    "print(\"null value number -- > {} \\n\".format(train_data[\"black_id\"].isnull().sum()))"
   ]
  },
  {
   "cell_type": "code",
   "execution_count": 18,
   "metadata": {},
   "outputs": [
    {
     "name": "stdout",
     "output_type": "stream",
     "text": [
      "1500    797\n",
      "1400     69\n",
      "1501     53\n",
      "1810     49\n",
      "1562     45\n",
      "       ... \n",
      "2359      1\n",
      "1000      1\n",
      "2284      1\n",
      "2316      1\n",
      "934       1\n",
      "Name: black_rating, Length: 1521, dtype: int64 \n",
      "\n",
      "null value number -- > 0 \n",
      "\n"
     ]
    }
   ],
   "source": [
    "#black_rating\n",
    "print(\"{} \\n\".format(train_data[\"black_rating\"].value_counts()))\n",
    "print(\"null value number -- > {} \\n\".format(train_data[\"black_rating\"].isnull().sum()))"
   ]
  },
  {
   "cell_type": "code",
   "execution_count": 19,
   "metadata": {},
   "outputs": [
    {
     "name": "stdout",
     "output_type": "stream",
     "text": [
      "e4 e5                                                                                                                                                                                                                                                                                                                                                                                           27\n",
      "e4 d5                                                                                                                                                                                                                                                                                                                                                                                           21\n",
      "d4 d5                                                                                                                                                                                                                                                                                                                                                                                           17\n",
      "e4 e5 Nf3                                                                                                                                                                                                                                                                                                                                                                                       16\n",
      "f4 e6 g4 Qh4#                                                                                                                                                                                                                                                                                                                                                                                   14\n",
      "                                                                                                                                                                                                                                                                                                                                                                                                ..\n",
      "e4 Nc6 Nf3 d6 Bb5 e5 d4 exd4 Qxd4 Bd7 Bxc6 bxc6 Nc3 Nf6 Bg5 Be7 O-O O-O Rfe1 c5 Qd1 Bc6 Bc1 Qd7 b3 Rfe8 Bb2 Bd8 Qd3 Ng4 h3 Ne5 Nxe5 Rxe5 Na4 Bf6 Bxe5 Bxe5 Nc3 Rd8 Rad1 Rf8 Nd5 Bb5 c4 Ba6 f4 Bd4+ Kh1 f5 b4 c6 bxc5 dxc5 Nc3 fxe4 Rxe4 Qc7 Ne2 Bf6 Qd7 Qb6 Re8 Qb8 Rxb8 Rxb8 Qe6+ Kh8 Qxc6 Bxc4 Qc7 Rb2 Qc8+ Bg8 Ng3 Bd4 Nf5 Bf6 Nxg7 Bxg7 Rd8 h5 Rxg8+ Kh7 Re8 Rxa2 Qf5+ Kh6 Qe6+ Kh7 Qxa2     1\n",
      "e4 e5 Nf3 Nc6 Bb5 a6 Ba4 Nf6 O-O b5 Bb3 Be7 Re1 d6 h3 Na5 d4 Nxb3 axb3 Bb7 d5 c5 Nh2 Qc7 Ng4 Bc8 Nxf6+ Bxf6 Nd2 g6 Nf1 Bg7 Nh2 O-O Ng4 f5 Nh6+ Kh8 Qf3 fxe4 Qxe4 Bf5 Nxf5 Rxf5 Qh4 Rf7 Bh6 Bf6 Bg5 Bg7 Re3 a5 Rg3 Kg8 Rd1 Raf8 f3 Bf6 Bxf6 Rxf6 Qe4 Rf4 Qe2 Qd7                                                                                                                                  1\n",
      "g3 e5 Bg2 d5 c3 e4 d3 f5 f3 Nf6 dxe4 fxe4 fxe4 dxe4 Qxd8+ Kxd8 Bg5 Be7 Bxf6 Bxf6 Bxe4 c6 Nf3 Kc7 Nbd2 Be6 Nb3 Nd7 O-O-O Rad8 Nfd4 Bxb3 Nxb3 g6 Rhf1 Bg5+ Kb1 Nf6 Bf3 Nd5 Bxd5 Rxd5 Rxd5 cxd5 Nd4 Re8 h4 Bh6 Rf7+ Kb6 Rxh7 Be3 Nc2 Bf2 Rh6 Bxg3 Rxg6+                                                                                                                                             1\n",
      "e4 e5 Nf3 d6 d4 Nf6 Nc3 exd4 Nxd4 d5 exd5 c6 Nf5 cxd5 Nxd5 Nxd5 Bb5+ Nc6 Bc4 Bb4+ c3 Bxf5 Bxd5 Bc5 Bxc6+ bxc6 Qxd8+ Kxd8 Bg5+ f6 Bf4 Be4 O-O Re8 Rad1+ Ke7 Rfe1 Rad8 Rxe4+ Kf7 Rxe8 Rxd1+ Re1 Rxe1#                                                                                                                                                                                              1\n",
      "e4 e6 Nf3 Nf6 Nc3 Bb4 e5 Ng4 Nd4 Nh6 d3 Nf5 Nxf5 exf5 Bd2 Nc6 d4 Nxd4 Ne2 Bxd2+ Qxd2 Nc6 Nc3 Qe7 Be2 Nxe5 Nd5 Qd6 O-O-O O-O Rhe1 Ng4 Bxg4 fxg4 Qc3 c6 Ne7+ Qxe7 Rxe7 d5 Rde1 Bf5 Qe3 g6 Rxb7 Rae8 Qd2 a6 Rxe8 Rxe8 b3 Bc8 Ra7 g3 hxg3 Bg4 Qh6 Re1+ Kb2 Re2 Ra8+                                                                                                                                  1\n",
      "Name: moves, Length: 18920, dtype: int64 \n",
      "\n",
      "null value number -- > 0 \n",
      "\n"
     ]
    }
   ],
   "source": [
    "#moves\n",
    "print(\"{} \\n\".format(train_data[\"moves\"].value_counts()))\n",
    "print(\"null value number -- > {} \\n\".format(train_data[\"moves\"].isnull().sum()))"
   ]
  },
  {
   "cell_type": "code",
   "execution_count": 20,
   "metadata": {},
   "outputs": [
    {
     "name": "stdout",
     "output_type": "stream",
     "text": [
      "A00    1007\n",
      "C00     844\n",
      "D00     739\n",
      "B01     716\n",
      "C41     691\n",
      "       ... \n",
      "A23       1\n",
      "E72       1\n",
      "A99       1\n",
      "A59       1\n",
      "E33       1\n",
      "Name: opening_eco, Length: 365, dtype: int64 \n",
      "\n",
      "null value number -- > 0 \n",
      "\n"
     ]
    }
   ],
   "source": [
    "#opening_eco\n",
    "print(\"{} \\n\".format(train_data[\"opening_eco\"].value_counts()))\n",
    "print(\"null value number -- > {} \\n\".format(train_data[\"opening_eco\"].isnull().sum()))"
   ]
  },
  {
   "cell_type": "code",
   "execution_count": 21,
   "metadata": {},
   "outputs": [
    {
     "name": "stdout",
     "output_type": "stream",
     "text": [
      "Van't Kruijs Opening                                               368\n",
      "Sicilian Defense                                                   358\n",
      "Sicilian Defense: Bowdler Attack                                   296\n",
      "Scotch Game                                                        271\n",
      "French Defense: Knight Variation                                   271\n",
      "                                                                  ... \n",
      "King's Indian Attack: Yugoslav Variation                             1\n",
      "Queen's Gambit Refused: Baltic Defense |  Pseudo-Chigorin            1\n",
      "Russian Game: Classical Attack |  Closed Variation                   1\n",
      "Pirc Defense: Austrian Attack #2                                     1\n",
      "Sicilian Defense: Smith-Morra Gambit Accepted |  Morphy Defense      1\n",
      "Name: opening_name, Length: 1477, dtype: int64 \n",
      "\n",
      "null value number -- > 0 \n",
      "\n"
     ]
    }
   ],
   "source": [
    "#opening_name\n",
    "print(\"{} \\n\".format(train_data[\"opening_name\"].value_counts()))\n",
    "print(\"null value number -- > {} \\n\".format(train_data[\"opening_name\"].isnull().sum()))"
   ]
  },
  {
   "cell_type": "code",
   "execution_count": 22,
   "metadata": {},
   "outputs": [
    {
     "name": "stdout",
     "output_type": "stream",
     "text": [
      "3     3490\n",
      "4     3308\n",
      "2     2935\n",
      "5     2730\n",
      "6     2020\n",
      "7     1344\n",
      "8     1116\n",
      "1     1097\n",
      "9      687\n",
      "10     432\n",
      "11     425\n",
      "12     142\n",
      "13     127\n",
      "14      57\n",
      "15      43\n",
      "17      37\n",
      "16      31\n",
      "18      12\n",
      "19      11\n",
      "20       8\n",
      "28       4\n",
      "24       1\n",
      "22       1\n",
      "Name: opening_ply, dtype: int64 \n",
      "\n",
      "null value number -- > 0 \n",
      "\n"
     ]
    }
   ],
   "source": [
    "#opening_ply\n",
    "print(\"{} \\n\".format(train_data[\"opening_ply\"].value_counts()))\n",
    "print(\"null value number -- > {} \\n\".format(train_data[\"opening_ply\"].isnull().sum()))"
   ]
  },
  {
   "cell_type": "code",
   "execution_count": 23,
   "metadata": {},
   "outputs": [
    {
     "name": "stdout",
     "output_type": "stream",
     "text": [
      " \t Columns with null \n",
      " --> Index([], dtype='object')\n"
     ]
    }
   ],
   "source": [
    "print(\" \\t Columns with null \\n -->\",train_data.columns[train_data.isnull().any()])"
   ]
  },
  {
   "cell_type": "code",
   "execution_count": 24,
   "metadata": {},
   "outputs": [
    {
     "name": "stdout",
     "output_type": "stream",
     "text": [
      "\t how many nulls are there\n",
      "\n",
      "\n",
      " id                0\n",
      "rated             0\n",
      "created_at        0\n",
      "last_move_at      0\n",
      "turns             0\n",
      "victory_status    0\n",
      "winner            0\n",
      "increment_code    0\n",
      "white_id          0\n",
      "white_rating      0\n",
      "black_id          0\n",
      "black_rating      0\n",
      "moves             0\n",
      "opening_eco       0\n",
      "opening_name      0\n",
      "opening_ply       0\n",
      "dtype: int64\n"
     ]
    }
   ],
   "source": [
    "print(\"\\t how many nulls are there\\n\\n\\n\",train_data.isnull().sum())"
   ]
  },
  {
   "cell_type": "code",
   "execution_count": 25,
   "metadata": {},
   "outputs": [
    {
     "name": "stdout",
     "output_type": "stream",
     "text": [
      "       rated  turns victory_status winner  white_rating  black_rating  \\\n",
      "0      False     13      outoftime  white          1500          1191   \n",
      "1       True     16         resign  black          1322          1261   \n",
      "2       True     61           mate  white          1496          1500   \n",
      "3       True     61           mate  white          1439          1454   \n",
      "4       True     95           mate  white          1523          1469   \n",
      "...      ...    ...            ...    ...           ...           ...   \n",
      "20053   True     24         resign  white          1691          1220   \n",
      "20054   True     82           mate  black          1233          1196   \n",
      "20055   True     35           mate  white          1219          1286   \n",
      "20056   True    109         resign  white          1360          1227   \n",
      "20057   True     78           mate  black          1235          1339   \n",
      "\n",
      "       opening_ply  \n",
      "0                5  \n",
      "1                4  \n",
      "2                3  \n",
      "3                3  \n",
      "4                5  \n",
      "...            ...  \n",
      "20053            2  \n",
      "20054            2  \n",
      "20055            3  \n",
      "20056            4  \n",
      "20057            3  \n",
      "\n",
      "[20058 rows x 7 columns]\n"
     ]
    }
   ],
   "source": [
    "train_new=train_data.drop([\"id\",\"moves\",\"created_at\",\"last_move_at\",\"increment_code\",\"white_id\",\"black_id\",\"opening_eco\",\"opening_name\"],axis=1)\n",
    "print(train_new)"
   ]
  },
  {
   "cell_type": "markdown",
   "metadata": {},
   "source": [
    "# FEATURE ENGINEERING"
   ]
  },
  {
   "cell_type": "code",
   "execution_count": 26,
   "metadata": {},
   "outputs": [
    {
     "data": {
      "text/plain": [
       "0        False\n",
       "1         True\n",
       "2         True\n",
       "3         True\n",
       "4         True\n",
       "         ...  \n",
       "20053     True\n",
       "20054     True\n",
       "20055     True\n",
       "20056     True\n",
       "20057     True\n",
       "Name: rated, Length: 20058, dtype: bool"
      ]
     },
     "execution_count": 26,
     "metadata": {},
     "output_type": "execute_result"
    }
   ],
   "source": [
    "train_new.rated"
   ]
  },
  {
   "cell_type": "code",
   "execution_count": 27,
   "metadata": {},
   "outputs": [
    {
     "data": {
      "image/png": "[encoded data removed]",
      "text/plain": [
       "<Figure size 432x288 with 1 Axes>"
      ]
     },
     "metadata": {
      "needs_background": "light"
     },
     "output_type": "display_data"
    }
   ],
   "source": [
    "sns.countplot(x=\"rated\", data =train_new)\n",
    "plt.xticks(rotation = 60)\n",
    "plt.show()"
   ]
  },
  {
   "cell_type": "code",
   "execution_count": 28,
   "metadata": {},
   "outputs": [],
   "source": [
    "#rated\n",
    "\n",
    "train_new[\"rated\"] = [ 0 if i == True\n",
    "                        else 1 for i in train_new[\"rated\"]]\n",
    "\n"
   ]
  },
  {
   "cell_type": "code",
   "execution_count": 29,
   "metadata": {},
   "outputs": [
    {
     "data": {
      "text/plain": [
       "0    16155\n",
       "1     3903\n",
       "Name: rated, dtype: int64"
      ]
     },
     "execution_count": 29,
     "metadata": {},
     "output_type": "execute_result"
    }
   ],
   "source": [
    "train_new.rated\n",
    "train_new[\"rated\"].value_counts()"
   ]
  },
  {
   "cell_type": "code",
   "execution_count": 30,
   "metadata": {},
   "outputs": [
    {
     "data": {
      "image/png": "[encoded data removed]",
      "text/plain": [
       "<Figure size 432x288 with 1 Axes>"
      ]
     },
     "metadata": {
      "needs_background": "light"
     },
     "output_type": "display_data"
    }
   ],
   "source": [
    "sns.countplot(x=\"rated\", data =train_new)\n",
    "plt.xticks(rotation = 60)\n",
    "plt.show()"
   ]
  },
  {
   "cell_type": "code",
   "execution_count": 31,
   "metadata": {},
   "outputs": [],
   "source": [
    "#winner\n",
    "\n",
    "train_new[\"winner\"] = [ 0 if i == \"white\"\n",
    "                        else 1 if i == \"black\"\n",
    "                        else 2 for i in train_new[\"winner\"]]\n",
    "\n"
   ]
  },
  {
   "cell_type": "code",
   "execution_count": 32,
   "metadata": {},
   "outputs": [
    {
     "data": {
      "image/png": "[encoded data removed]",
      "text/plain": [
       "<Figure size 432x288 with 1 Axes>"
      ]
     },
     "metadata": {
      "needs_background": "light"
     },
     "output_type": "display_data"
    }
   ],
   "source": [
    "sns.countplot(x=\"winner\", data =train_new)\n",
    "plt.xticks(rotation = 60)\n",
    "plt.show()"
   ]
  },
  {
   "cell_type": "code",
   "execution_count": 33,
   "metadata": {},
   "outputs": [],
   "source": [
    "#victory_status\n",
    "\n",
    "train_new[\"victory_status\"] = [ 0 if i == \"resign\"\n",
    "                                else 1 if i == \"mate\"\n",
    "                                else 2 if i == \"outoftime\"\n",
    "                                else 3 for i in train_new[\"victory_status\"]]\n",
    "\n",
    " "
   ]
  },
  {
   "cell_type": "code",
   "execution_count": 34,
   "metadata": {},
   "outputs": [
    {
     "data": {
      "image/png": "[encoded data removed]",
      "text/plain": [
       "<Figure size 432x288 with 1 Axes>"
      ]
     },
     "metadata": {
      "needs_background": "light"
     },
     "output_type": "display_data"
    }
   ],
   "source": [
    "sns.countplot(x=\"victory_status\", data =train_new)\n",
    "plt.xticks(rotation = 60)\n",
    "plt.show()"
   ]
  },
  {
   "cell_type": "code",
   "execution_count": 35,
   "metadata": {},
   "outputs": [
    {
     "data": {
      "image/png": "[encoded data removed]",
      "text/plain": [
       "<Figure size 1440x1440 with 2 Axes>"
      ]
     },
     "metadata": {
      "needs_background": "light"
     },
     "output_type": "display_data"
    }
   ],
   "source": [
    "#get correlations of each features in dataset\n",
    "corrmat=train_new.corr()\n",
    "top_corr_features=corrmat.index\n",
    "plt.figure(figsize=(20,20))\n",
    "#plot heatmap\n",
    "g=sns.heatmap(train_new[top_corr_features].corr(),annot=True,cmap=\"RdYlGn\")"
   ]
  },
  {
   "cell_type": "code",
   "execution_count": 36,
   "metadata": {},
   "outputs": [],
   "source": [
    "#The heatmap that victory_status and turns has relatively high postive relationship \n",
    "#with winner. \n",
    "#So we will drop the features apart from this.\n",
    "#Multicollineraity means that the independent variables need to be uncorrelated with each other. \n",
    "#We also need to check if these variables are related with eachother."
   ]
  },
  {
   "cell_type": "code",
   "execution_count": 37,
   "metadata": {},
   "outputs": [
    {
     "name": "stdout",
     "output_type": "stream",
     "text": [
      "       turns\n",
      "turns    1.0\n"
     ]
    }
   ],
   "source": [
    "print(train_data[[\"turns\",\"victory_status\"]].corr())"
   ]
  },
  {
   "cell_type": "code",
   "execution_count": 102,
   "metadata": {},
   "outputs": [],
   "source": [
    "#victory_status and turn has high correlation-Multicollinearity occurs, so remove one variable "
   ]
  },
  {
   "cell_type": "code",
   "execution_count": 103,
   "metadata": {},
   "outputs": [],
   "source": [
    "train_new=train_new.drop([\"turns\"],axis=1)"
   ]
  },
  {
   "cell_type": "code",
   "execution_count": 104,
   "metadata": {},
   "outputs": [
    {
     "data": {
      "text/html": [
       "<div>\n",
       "<style scoped>\n",
       "    .dataframe tbody tr th:only-of-type {\n",
       "        vertical-align: middle;\n",
       "    }\n",
       "\n",
       "    .dataframe tbody tr th {\n",
       "        vertical-align: top;\n",
       "    }\n",
       "\n",
       "    .dataframe thead th {\n",
       "        text-align: right;\n",
       "    }\n",
       "</style>\n",
       "<table border=\"1\" class=\"dataframe\">\n",
       "  <thead>\n",
       "    <tr style=\"text-align: right;\">\n",
       "      <th></th>\n",
       "      <th>rated</th>\n",
       "      <th>victory_status</th>\n",
       "      <th>winner</th>\n",
       "      <th>white_rating</th>\n",
       "      <th>black_rating</th>\n",
       "      <th>opening_ply</th>\n",
       "    </tr>\n",
       "  </thead>\n",
       "  <tbody>\n",
       "    <tr>\n",
       "      <th>0</th>\n",
       "      <td>1</td>\n",
       "      <td>2</td>\n",
       "      <td>0</td>\n",
       "      <td>1500</td>\n",
       "      <td>1191</td>\n",
       "      <td>5</td>\n",
       "    </tr>\n",
       "    <tr>\n",
       "      <th>1</th>\n",
       "      <td>0</td>\n",
       "      <td>0</td>\n",
       "      <td>1</td>\n",
       "      <td>1322</td>\n",
       "      <td>1261</td>\n",
       "      <td>4</td>\n",
       "    </tr>\n",
       "    <tr>\n",
       "      <th>2</th>\n",
       "      <td>0</td>\n",
       "      <td>1</td>\n",
       "      <td>0</td>\n",
       "      <td>1496</td>\n",
       "      <td>1500</td>\n",
       "      <td>3</td>\n",
       "    </tr>\n",
       "    <tr>\n",
       "      <th>3</th>\n",
       "      <td>0</td>\n",
       "      <td>1</td>\n",
       "      <td>0</td>\n",
       "      <td>1439</td>\n",
       "      <td>1454</td>\n",
       "      <td>3</td>\n",
       "    </tr>\n",
       "    <tr>\n",
       "      <th>4</th>\n",
       "      <td>0</td>\n",
       "      <td>1</td>\n",
       "      <td>0</td>\n",
       "      <td>1523</td>\n",
       "      <td>1469</td>\n",
       "      <td>5</td>\n",
       "    </tr>\n",
       "  </tbody>\n",
       "</table>\n",
       "</div>"
      ],
      "text/plain": [
       "   rated  victory_status  winner  white_rating  black_rating  opening_ply\n",
       "0      1               2       0          1500          1191            5\n",
       "1      0               0       1          1322          1261            4\n",
       "2      0               1       0          1496          1500            3\n",
       "3      0               1       0          1439          1454            3\n",
       "4      0               1       0          1523          1469            5"
      ]
     },
     "execution_count": 104,
     "metadata": {},
     "output_type": "execute_result"
    }
   ],
   "source": [
    "train_new.head()"
   ]
  },
  {
   "cell_type": "code",
   "execution_count": 105,
   "metadata": {},
   "outputs": [
    {
     "data": {
      "text/html": [
       "<div>\n",
       "<style scoped>\n",
       "    .dataframe tbody tr th:only-of-type {\n",
       "        vertical-align: middle;\n",
       "    }\n",
       "\n",
       "    .dataframe tbody tr th {\n",
       "        vertical-align: top;\n",
       "    }\n",
       "\n",
       "    .dataframe thead th {\n",
       "        text-align: right;\n",
       "    }\n",
       "</style>\n",
       "<table border=\"1\" class=\"dataframe\">\n",
       "  <thead>\n",
       "    <tr style=\"text-align: right;\">\n",
       "      <th></th>\n",
       "      <th>rated</th>\n",
       "      <th>victory_status</th>\n",
       "      <th>winner</th>\n",
       "      <th>white_rating</th>\n",
       "      <th>black_rating</th>\n",
       "      <th>opening_ply</th>\n",
       "    </tr>\n",
       "  </thead>\n",
       "  <tbody>\n",
       "    <tr>\n",
       "      <th>0</th>\n",
       "      <td>1</td>\n",
       "      <td>2</td>\n",
       "      <td>0</td>\n",
       "      <td>1500</td>\n",
       "      <td>1191</td>\n",
       "      <td>5</td>\n",
       "    </tr>\n",
       "    <tr>\n",
       "      <th>1</th>\n",
       "      <td>0</td>\n",
       "      <td>0</td>\n",
       "      <td>1</td>\n",
       "      <td>1322</td>\n",
       "      <td>1261</td>\n",
       "      <td>4</td>\n",
       "    </tr>\n",
       "    <tr>\n",
       "      <th>2</th>\n",
       "      <td>0</td>\n",
       "      <td>1</td>\n",
       "      <td>0</td>\n",
       "      <td>1496</td>\n",
       "      <td>1500</td>\n",
       "      <td>3</td>\n",
       "    </tr>\n",
       "    <tr>\n",
       "      <th>3</th>\n",
       "      <td>0</td>\n",
       "      <td>1</td>\n",
       "      <td>0</td>\n",
       "      <td>1439</td>\n",
       "      <td>1454</td>\n",
       "      <td>3</td>\n",
       "    </tr>\n",
       "    <tr>\n",
       "      <th>4</th>\n",
       "      <td>0</td>\n",
       "      <td>1</td>\n",
       "      <td>0</td>\n",
       "      <td>1523</td>\n",
       "      <td>1469</td>\n",
       "      <td>5</td>\n",
       "    </tr>\n",
       "  </tbody>\n",
       "</table>\n",
       "</div>"
      ],
      "text/plain": [
       "   rated  victory_status  winner  white_rating  black_rating  opening_ply\n",
       "0      1               2       0          1500          1191            5\n",
       "1      0               0       1          1322          1261            4\n",
       "2      0               1       0          1496          1500            3\n",
       "3      0               1       0          1439          1454            3\n",
       "4      0               1       0          1523          1469            5"
      ]
     },
     "execution_count": 105,
     "metadata": {},
     "output_type": "execute_result"
    }
   ],
   "source": [
    "train = train_new[:20058]\n",
    "train.head()"
   ]
  },
  {
   "cell_type": "code",
   "execution_count": 106,
   "metadata": {},
   "outputs": [],
   "source": [
    "X = train.drop(labels = \"winner\", axis = 1)\n",
    "y = train[\"winner\"]"
   ]
  },
  {
   "cell_type": "code",
   "execution_count": 107,
   "metadata": {},
   "outputs": [
    {
     "name": "stdout",
     "output_type": "stream",
     "text": [
      "X_train 16046\n",
      "X_test 4012\n",
      "y_train 16046\n",
      "y_test 4012\n"
     ]
    }
   ],
   "source": [
    "X_train, X_test, y_train, y_test = train_test_split(X, y, test_size = 0.2, random_state = 2)\n",
    "print(\"X_train\",len(X_train))\n",
    "print(\"X_test\",len(X_test))\n",
    "print(\"y_train\",len(y_train))\n",
    "print(\"y_test\",len(y_test))"
   ]
  },
  {
   "cell_type": "code",
   "execution_count": 108,
   "metadata": {},
   "outputs": [],
   "source": [
    "# model accuracy\n",
    "result = []"
   ]
  },
  {
   "cell_type": "markdown",
   "metadata": {},
   "source": [
    "# RANDOM FOREST"
   ]
  },
  {
   "cell_type": "code",
   "execution_count": 109,
   "metadata": {},
   "outputs": [
    {
     "name": "stdout",
     "output_type": "stream",
     "text": [
      "RESULT\n",
      "Random Forest Model Acc :  0.6612662013958126\n"
     ]
    }
   ],
   "source": [
    "random_forest_model = RandomForestClassifier(max_depth=7, random_state= 59)\n",
    "random_forest_model.fit(X_train, y_train)\n",
    "y_pred_random_forest = random_forest_model.predict(X_test)\n",
    "cm_random_forest = confusion_matrix(y_pred_random_forest, y_test)\n",
    "acc_random_forest = accuracy_score(y_test, y_pred_random_forest)\n",
    "result.append(acc_random_forest)\n",
    "print(\"RESULT\")\n",
    "print(\"Random Forest Model Acc : \",acc_random_forest)"
   ]
  },
  {
   "cell_type": "code",
   "execution_count": 110,
   "metadata": {},
   "outputs": [],
   "source": [
    "\n",
    "def plot_confusion_matrix(cm, classes,\n",
    "                          normalize=False,\n",
    "                          title='Confusion matrix',\n",
    "                          cmap=plt.cm.Blues):\n",
    "\n",
    "    plt.imshow(cm, interpolation='nearest', cmap=cmap)\n",
    "    plt.title(title)\n",
    "    plt.colorbar()\n",
    "    tick_marks = np.arange(len(classes))\n",
    "    plt.xticks(tick_marks, classes, rotation=45)\n",
    "    plt.yticks(tick_marks, classes)\n",
    "\n",
    "    if normalize:\n",
    "        cm = cm.astype('float') / cm.sum(axis=1)[:, np.newaxis]\n",
    "        print(\"Normalized confusion matrix\")\n",
    "    else:\n",
    "        print('Confusion matrix, without normalization')\n",
    "\n",
    "    thresh = cm.max() / 2.\n",
    "    for i, j in itertools.product(range(cm.shape[0]), range(cm.shape[1])):\n",
    "        plt.text(j, i, cm[i, j],\n",
    "                 horizontalalignment=\"center\",\n",
    "                 color=\"white\" if cm[i, j] > thresh else \"black\")\n",
    "\n",
    "    plt.tight_layout()\n",
    "    plt.ylabel('True label')\n",
    "    plt.xlabel('Predicted label')"
   ]
  },
  {
   "cell_type": "code",
   "execution_count": 111,
   "metadata": {},
   "outputs": [
    {
     "name": "stdout",
     "output_type": "stream",
     "text": [
      "accuracy: 0.661\n",
      "Confusion matrix, without normalization\n"
     ]
    },
    {
     "data": {
      "image/png": "[encoded data removed]",
      "text/plain": [
       "<Figure size 432x288 with 2 Axes>"
      ]
     },
     "metadata": {
      "needs_background": "light"
     },
     "output_type": "display_data"
    }
   ],
   "source": [
    "plot_confusion_matrix\n",
    "\n",
    "from sklearn import metrics\n",
    "import itertools\n",
    "\n",
    "score = metrics.accuracy_score(y_test, y_pred_random_forest)\n",
    "print(\"accuracy: %0.3f\" %score)\n",
    "\n",
    "cm = metrics.confusion_matrix(y_test,y_pred_random_forest)\n",
    "plot_confusion_matrix(cm, classes=['True', 'False'])"
   ]
  },
  {
   "cell_type": "code",
   "execution_count": 116,
   "metadata": {},
   "outputs": [
    {
     "name": "stdout",
     "output_type": "stream",
     "text": [
      "              precision    recall  f1-score   support\n",
      "\n",
      "           0       0.63      0.75      0.68      1969\n",
      "           1       0.66      0.54      0.59      1845\n",
      "           2       1.00      0.97      0.99       198\n",
      "\n",
      "    accuracy                           0.66      4012\n",
      "   macro avg       0.77      0.75      0.75      4012\n",
      "weighted avg       0.66      0.66      0.66      4012\n",
      "\n"
     ]
    }
   ],
   "source": [
    "print(classification_report(y_test, y_pred_random_forest))"
   ]
  },
  {
   "cell_type": "markdown",
   "metadata": {},
   "source": [
    "# XGBCLASSIFIER"
   ]
  },
  {
   "cell_type": "code",
   "execution_count": 120,
   "metadata": {},
   "outputs": [
    {
     "name": "stderr",
     "output_type": "stream",
     "text": [
      "C:\\Users\\DELL\\anaconda3\\lib\\site-packages\\xgboost\\sklearn.py:1146: UserWarning: The use of label encoder in XGBClassifier is deprecated and will be removed in a future release. To remove this warning, do the following: 1) Pass option use_label_encoder=False when constructing XGBClassifier object; and 2) Encode your labels (y) as integers starting with 0, i.e. 0, 1, 2, ..., [num_class - 1].\n",
      "  warnings.warn(label_encoder_deprecation_msg, UserWarning)\n"
     ]
    },
    {
     "name": "stdout",
     "output_type": "stream",
     "text": [
      "[22:38:11] WARNING: C:/Users/Administrator/workspace/xgboost-win64_release_1.4.0/src/learner.cc:1095: Starting in XGBoost 1.3.0, the default evaluation metric used with the objective 'multi:softprob' was changed from 'merror' to 'mlogloss'. Explicitly set eval_metric if you'd like to restore the old behavior.\n",
      "RESULT\n",
      "XGBoost Model Acc :  0.6650049850448654\n"
     ]
    },
    {
     "name": "stderr",
     "output_type": "stream",
     "text": [
      "C:\\Users\\DELL\\anaconda3\\lib\\site-packages\\xgboost\\data.py:112: UserWarning: Use subset (sliced data) of np.ndarray is not recommended because it will generate extra copies and increase memory consumption\n",
      "  warnings.warn(\n"
     ]
    }
   ],
   "source": [
    "XGB = XGBClassifier(max_depth = 1)\n",
    "XGB.fit(X_train, y_train)\n",
    "y_pred_xgb = XGB.predict(X_test)\n",
    "cm_xgb = confusion_matrix(y_pred_xgb, y_test)\n",
    "acc_xgb = accuracy_score(y_test, y_pred_xgb)\n",
    "result.append(acc_xgb)\n",
    "print(\"RESULT\")\n",
    "print(\"XGBoost Model Acc : \",acc_xgb)\n"
   ]
  },
  {
   "cell_type": "code",
   "execution_count": 121,
   "metadata": {},
   "outputs": [
    {
     "data": {
      "text/plain": [
       "<function __main__.plot_confusion_matrix(cm, classes, normalize=False, title='Confusion matrix', cmap=<matplotlib.colors.LinearSegmentedColormap object at 0x000001E7A8D86730>)>"
      ]
     },
     "execution_count": 121,
     "metadata": {},
     "output_type": "execute_result"
    }
   ],
   "source": [
    "def plot_confusion_matrix(cm, classes,\n",
    "                          normalize=False,\n",
    "                          title='Confusion matrix',\n",
    "                          cmap=plt.cm.Blues):\n",
    "\n",
    "    plt.imshow(cm, interpolation='nearest', cmap=cmap)\n",
    "    plt.title(title)\n",
    "    plt.colorbar()\n",
    "    tick_marks = np.arange(len(classes))\n",
    "    plt.xticks(tick_marks, classes, rotation=45)\n",
    "    plt.yticks(tick_marks, classes)\n",
    "\n",
    "    if normalize:\n",
    "        cm = cm.astype('float') / cm.sum(axis=1)[:, np.newaxis]\n",
    "        print(\"Normalized confusion matrix\")\n",
    "    else:\n",
    "        print('Confusion matrix, without normalization')\n",
    "\n",
    "    thresh = cm.max() / 2.\n",
    "    for i, j in itertools.product(range(cm.shape[0]), range(cm.shape[1])):\n",
    "        plt.text(j, i, cm[i, j],\n",
    "                 horizontalalignment=\"center\",\n",
    "                 color=\"white\" if cm[i, j] > thresh else \"black\")\n",
    "\n",
    "    plt.tight_layout()\n",
    "    plt.ylabel('True label')\n",
    "    plt.xlabel('Predicted label')\n",
    "plot_confusion_matrix    "
   ]
  },
  {
   "cell_type": "code",
   "execution_count": 122,
   "metadata": {},
   "outputs": [
    {
     "name": "stdout",
     "output_type": "stream",
     "text": [
      "accuracy:   0.665\n",
      "Confusion matrix, without normalization\n"
     ]
    },
    {
     "data": {
      "image/png": "[encoded data removed]",
      "text/plain": [
       "<Figure size 432x288 with 2 Axes>"
      ]
     },
     "metadata": {
      "needs_background": "light"
     },
     "output_type": "display_data"
    }
   ],
   "source": [
    "from sklearn import metrics\n",
    "import itertools\n",
    "\n",
    "score = metrics.accuracy_score(y_test, y_pred_xgb)\n",
    "print(\"accuracy:   %0.3f\" % score)\n",
    "\n",
    "cm = metrics.confusion_matrix(y_test,y_pred_xgb)\n",
    "plot_confusion_matrix(cm, classes=['True', 'False'])"
   ]
  },
  {
   "cell_type": "code",
   "execution_count": 123,
   "metadata": {},
   "outputs": [
    {
     "name": "stdout",
     "output_type": "stream",
     "text": [
      "              precision    recall  f1-score   support\n",
      "\n",
      "           0       0.64      0.74      0.69      1969\n",
      "           1       0.67      0.55      0.60      1845\n",
      "           2       1.00      0.97      0.99       198\n",
      "\n",
      "    accuracy                           0.67      4012\n",
      "   macro avg       0.77      0.76      0.76      4012\n",
      "weighted avg       0.67      0.67      0.66      4012\n",
      "\n"
     ]
    }
   ],
   "source": [
    "print(classification_report(y_test, y_pred_xgb))"
   ]
  },
  {
   "cell_type": "code",
   "execution_count": null,
   "metadata": {},
   "outputs": [],
   "source": []
  }
 ],
 "metadata": {
  "kernelspec": {
   "display_name": "Python 3",
   "language": "python",
   "name": "python3"
  },
  "language_info": {
   "codemirror_mode": {
    "name": "ipython",
    "version": 3
   },
   "file_extension": ".py",
   "mimetype": "text/x-python",
   "name": "python",
   "nbconvert_exporter": "python",
   "pygments_lexer": "ipython3",
   "version": "3.8.5"
  }
 },
 "nbformat": 4,
 "nbformat_minor": 4
}
